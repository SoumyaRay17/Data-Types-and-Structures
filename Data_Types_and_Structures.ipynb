{
  "nbformat": 4,
  "nbformat_minor": 0,
  "metadata": {
    "colab": {
      "provenance": []
    },
    "kernelspec": {
      "name": "python3",
      "display_name": "Python 3"
    },
    "language_info": {
      "name": "python"
    }
  },
  "cells": [
    {
      "cell_type": "markdown",
      "source": [
        "<!-- DP What are data structures, and why are they important  -->"
      ],
      "metadata": {
        "id": "CbVBU05V_ry2"
      }
    },
    {
      "cell_type": "markdown",
      "source": [
        "## **THEORY QUESTIONS**"
      ],
      "metadata": {
        "id": "9ENSZhUix5q-"
      }
    },
    {
      "cell_type": "markdown",
      "source": [
        "## **1.What are data structures, and why are they important?**\n",
        "\n",
        "A data structure is a specialized format for organizing, processing, retrieving and storing data.\n",
        "\n",
        "There are several basic and advanced types of data structures, all designed to arrange data to suit a specific purpose.\n",
        "\n",
        "such as - Lists,Set,Tuples,String,Dictionary\n",
        "\n",
        "why ?\n",
        "\n",
        "Data structures make it easy for users to access and work with the data they need. Most importantly, data structures frame the organization of information so that machines and humans can better understand it.\n"
      ],
      "metadata": {
        "id": "48X3q0kQ_vho"
      }
    },
    {
      "cell_type": "markdown",
      "source": [
        "### **2.Explain the difference between mutable and immutable data types with examples ?**\n",
        "\n",
        "Mutable Data Types:\n",
        "\n",
        "Mutable data types allow modifications to their values after they are created. Changes are made directly to the object itself, without creating a new one.\n",
        "The original object can be changed.\n",
        "\n",
        "Examples: Lists, dictionaries, and sets are all mutable.\n",
        "\n",
        "\n",
        "Immutable Data Types:\n",
        "\n",
        "Immutable data types do not allow changes to their values once created. Any attempt to modify them results in creating a new object.\n",
        "A new object is created to reflect any change, leaving the original object untouched.\n",
        "\n",
        " Examples: Strings, tuples, and numbers (integers, floats, etc.) are immutable."
      ],
      "metadata": {
        "id": "RPqeQHfJB-cD"
      }
    },
    {
      "cell_type": "code",
      "source": [
        "#mutable data type\n",
        "my_list = [1, 2.4 ,3]\n",
        "my_list[0] = 10\n",
        "print(my_list)  # Output: [10, 2, 3]\n"
      ],
      "metadata": {
        "colab": {
          "base_uri": "https://localhost:8080/"
        },
        "id": "dsKk3pH_DlZK",
        "outputId": "6a83cb5a-f83a-4f4d-837f-7dcea09aafe6",
        "collapsed": true
      },
      "execution_count": null,
      "outputs": [
        {
          "output_type": "stream",
          "name": "stdout",
          "text": [
            "[10, 2.4, 3]\n"
          ]
        }
      ]
    },
    {
      "cell_type": "code",
      "source": [
        "#immutable data type\n",
        "my_tuple = (1, 2, 3)\n",
        "my_tuple[0] = 10  # Raises a TypeError: 'tuple' object does not support item assignment"
      ],
      "metadata": {
        "colab": {
          "base_uri": "https://localhost:8080/",
          "height": 176
        },
        "id": "ORJTYXuPD0Ll",
        "outputId": "c9c7c50d-e0aa-431a-96ec-617f2952f4df",
        "collapsed": true
      },
      "execution_count": null,
      "outputs": [
        {
          "output_type": "error",
          "ename": "TypeError",
          "evalue": "'tuple' object does not support item assignment",
          "traceback": [
            "\u001b[0;31m---------------------------------------------------------------------------\u001b[0m",
            "\u001b[0;31mTypeError\u001b[0m                                 Traceback (most recent call last)",
            "\u001b[0;32m<ipython-input-2-473dde84855f>\u001b[0m in \u001b[0;36m<cell line: 0>\u001b[0;34m()\u001b[0m\n\u001b[1;32m      1\u001b[0m \u001b[0;31m#immutable data type\u001b[0m\u001b[0;34m\u001b[0m\u001b[0;34m\u001b[0m\u001b[0m\n\u001b[1;32m      2\u001b[0m \u001b[0mmy_tuple\u001b[0m \u001b[0;34m=\u001b[0m \u001b[0;34m(\u001b[0m\u001b[0;36m1\u001b[0m\u001b[0;34m,\u001b[0m \u001b[0;36m2\u001b[0m\u001b[0;34m,\u001b[0m \u001b[0;36m3\u001b[0m\u001b[0;34m)\u001b[0m\u001b[0;34m\u001b[0m\u001b[0;34m\u001b[0m\u001b[0m\n\u001b[0;32m----> 3\u001b[0;31m \u001b[0mmy_tuple\u001b[0m\u001b[0;34m[\u001b[0m\u001b[0;36m0\u001b[0m\u001b[0;34m]\u001b[0m \u001b[0;34m=\u001b[0m \u001b[0;36m10\u001b[0m  \u001b[0;31m# Raises a TypeError: 'tuple' object does not support item assignment\u001b[0m\u001b[0;34m\u001b[0m\u001b[0;34m\u001b[0m\u001b[0m\n\u001b[0m",
            "\u001b[0;31mTypeError\u001b[0m: 'tuple' object does not support item assignment"
          ]
        }
      ]
    },
    {
      "cell_type": "markdown",
      "source": [
        "### **3.What are the main differences between lists and tuples in Python ?**\n",
        "LISTS -\n",
        "\n",
        "A list in Python is a versatile, ordered collection of items that can hold elements of different data types. Lists are commonly used to store collections of related data, allowing for easy access, modification, and iteration over the elements. They are especially useful for handling dynamic data where the number of items can change, such as user inputs, data streams, or any sequence of items needing processing.\n",
        "\n",
        "syntax contains square brackets [].\n",
        "\n",
        "lists have a dynamic length.\n",
        "\n",
        "fruits = [\"apple\", \"banana\", \"cherry\"]\n",
        "\n",
        "print(fruits[0]) #output = 'apple'\n",
        "\n",
        "\n",
        "TUPLES -\n",
        "\n",
        "A tuple in Python is an ordered collection of items that is immutable, meaning its elements cannot be changed after the tuple is created. Tuples are used to store collections of heterogeneous data and are particularly useful for representing fixed sequence data types that should not be modified. They are often used for grouping related pieces of data, such as coordinates, database records, or any set of values that belong together.\n",
        "\n",
        "syntax contains parenthesis ().\n",
        "\n",
        "tuples have a fixed length .\n",
        "\n",
        "For example:\n",
        "\n",
        "coordinates = (10.0, 20.0)\n",
        "\n",
        "print(coordinates[0]) # Output: 10.0\n",
        "\n",
        "\n",
        "\n"
      ],
      "metadata": {
        "id": "Qi9qhKr-FL_f"
      }
    },
    {
      "cell_type": "markdown",
      "source": [
        "### 4.Describe how dictionaries store data ?\n",
        "\n",
        "Dictionaries are used to store data values in key:value pairs. A dictionary is a collection which is ordered*, changeable and do not allow duplicates.\n",
        "\n",
        "Dictionary is an example of a hash table. The algorithm used to store and access keys in a hash table, along with their associated values, is designed to be very flexible and fast. It is flexible in that it allows a dictionary to contain keys of a wide variety of types.\n",
        "\n",
        "Fastest data structure among all and use in final code writing .\n"
      ],
      "metadata": {
        "id": "oGzlzkW9I-Uf"
      }
    },
    {
      "cell_type": "code",
      "source": [
        "my_dist = {\"key-course\": \"data analyst\" ,\"institute\": \"pwskills\" ,\"duration\": 6}\n",
        "print(my_dist)"
      ],
      "metadata": {
        "colab": {
          "base_uri": "https://localhost:8080/"
        },
        "id": "NxaVmkITKPj3",
        "outputId": "2e165862-c0a6-4c15-ab95-5f7f3978eb8a"
      },
      "execution_count": null,
      "outputs": [
        {
          "output_type": "stream",
          "name": "stdout",
          "text": [
            "{'key-course': 'data analyst', 'institute': 'pwskills', 'duration': 6}\n"
          ]
        }
      ]
    },
    {
      "cell_type": "markdown",
      "source": [],
      "metadata": {
        "id": "eZaqshIJytuf"
      }
    },
    {
      "cell_type": "markdown",
      "source": [
        "### 5.Why might you use a set instead of a list in Python ? ###\n",
        "Since sets do not store indexed data or duplicates, they use less memory than lists and are less computationally expensive. As a result, sets take less time to search through. To test this, the code below performs two membership tests. In one case, the container is a list and in the other, it's a set.Sets are good for picking out collections of things based on categorical groupings. So we use set instead of a list in Python.\n",
        "\n",
        "\n",
        "\n"
      ],
      "metadata": {
        "id": "CCrBDQdrytRP"
      }
    },
    {
      "cell_type": "markdown",
      "source": [
        "### **6.What is a string in Python,and how is it different from a list?**\n",
        "\n",
        "In Python,a string is a sequence of characters enclosed in single or double quotes, while a list is a sequence of items enclosed in square brackets and separated by commas.\n",
        "\n",
        "A string can only contain characters, whereas a list can hold any data type, including other lists. Additionally, strings are immutable or cannot be changed after creation, while lists are mutable or can be modified.\n"
      ],
      "metadata": {
        "id": "2rFISDVd4pg3"
      }
    },
    {
      "cell_type": "code",
      "source": [
        "#example of string -\n",
        "my_string = \"pwskills\"\n",
        "print(my_string)"
      ],
      "metadata": {
        "colab": {
          "base_uri": "https://localhost:8080/"
        },
        "id": "tdvE_yYH6W0u",
        "outputId": "2c5c92fd-52f3-49a5-fa93-611ce6ae100b"
      },
      "execution_count": null,
      "outputs": [
        {
          "output_type": "stream",
          "name": "stdout",
          "text": [
            "pwskills\n"
          ]
        }
      ]
    },
    {
      "cell_type": "code",
      "source": [
        "#example of list -\n",
        "my_list = [1,2,3.5,\"soumyaray\"]\n",
        "print(my_list)"
      ],
      "metadata": {
        "colab": {
          "base_uri": "https://localhost:8080/"
        },
        "id": "CMZ6qTUN6ftQ",
        "outputId": "44b29daf-d9ff-4c51-84d4-e2fcde94cfce"
      },
      "execution_count": null,
      "outputs": [
        {
          "output_type": "stream",
          "name": "stdout",
          "text": [
            "[1, 2, 3.5, 'soumyaray']\n"
          ]
        }
      ]
    },
    {
      "cell_type": "markdown",
      "source": [
        "### **7.How do tuples ensure data integrity in Python ?**\n",
        "\n",
        "Data Integrity -It ensures that data remains accurate and uncorrupted from its original state during storage, processing, retrieval, and transmission.\n",
        "\n",
        "Tuples are immutable to ensure that their contents remain constant throughout their lifecycle,guaranteeing data integrity and reliability.\n",
        "\n",
        "Tuples are almost identical to lists, so they contain an ordered collection of elements, except for one property: they are immutable.\n",
        " We would use tuples if we needed a data structure that, once created, cannot be modified anymore. Furthermore, tuples can be used as dictionary keys if all the elements are immutable.\n"
      ],
      "metadata": {
        "id": "kpMDYh0U668u"
      }
    },
    {
      "cell_type": "markdown",
      "source": [
        "### **8.What is a hash table, and how does it relate to dictionaries in Python?**\n",
        "\n",
        "A hash table is an efficient way to store and retrieve data using key-value pairs.\n",
        "\n",
        "In Python, the dictionaries data type is built on top of a hash table implementation.When you create a dictionary, Python uses a hash function to calculate a hash code for each key. This allows for very fast retrieval of values by using the key as input to the hash function.\n"
      ],
      "metadata": {
        "id": "d0H9pUVF8rJf"
      }
    },
    {
      "cell_type": "code",
      "source": [
        "my_dict = {\"soumya\":1,\"Ajay\":2}\n",
        "# When you access a value, Python uses the hash function to find the \"bucket\"\n",
        "# where \"soumya\" and its value 1 are stored\n",
        "value = my_dict[\"soumya\"]\n",
        "print(value)"
      ],
      "metadata": {
        "colab": {
          "base_uri": "https://localhost:8080/"
        },
        "id": "bTFAFQS9-UBN",
        "outputId": "ac707629-e3af-4e55-c356-71588be0934a"
      },
      "execution_count": null,
      "outputs": [
        {
          "output_type": "stream",
          "name": "stdout",
          "text": [
            "1\n"
          ]
        }
      ]
    },
    {
      "cell_type": "markdown",
      "source": [
        "### **9.Can lists contain different data types in Python ?**\n",
        "\n",
        "A list is a data structure in Python that is a mutable,or changeable, ordered sequence of elements. Each element or value that is inside of a list is called an item.\n",
        "Just as strings are defined as characters between quotes, lists are defined by having values between square brackets [ ] .\n",
        "So lists can contain different data types in Python."
      ],
      "metadata": {
        "id": "mSzVYnod_KDu"
      }
    },
    {
      "cell_type": "code",
      "source": [
        "#yes lists can contain different types of data ?\n",
        "my_list = [1,2,3.5,\"soumyaray\"]\n",
        "print(my_list)"
      ],
      "metadata": {
        "colab": {
          "base_uri": "https://localhost:8080/"
        },
        "id": "t7tzqVOHG3-V",
        "outputId": "d6d43875-20ae-460a-8206-8c37647e3a6c"
      },
      "execution_count": null,
      "outputs": [
        {
          "output_type": "stream",
          "name": "stdout",
          "text": [
            "[1, 2, 3.5, 'soumyaray']\n"
          ]
        }
      ]
    },
    {
      "cell_type": "code",
      "source": [],
      "metadata": {
        "id": "WsmOwEUEHIsu"
      },
      "execution_count": null,
      "outputs": []
    },
    {
      "cell_type": "markdown",
      "source": [
        "### **10.Explain why strings are immutable in Python?**\n",
        "\n",
        "\"immutable\" which means they cannot be changed after they are created.\n",
        "\n",
        "In Python, strings have the property of immutability which means they cannot be mutated or changed. You can assign strings to variables, and reassign new strings to the same variable, but individual characters within a string cannot be reassigned.\n"
      ],
      "metadata": {
        "id": "3mkRW8PKHMGz"
      }
    },
    {
      "cell_type": "code",
      "source": [
        "#string is immutable\n",
        "s=\"pwskills\"\n",
        "s[0]=\"a\"\n",
        "#throw an error"
      ],
      "metadata": {
        "colab": {
          "base_uri": "https://localhost:8080/",
          "height": 176
        },
        "collapsed": true,
        "id": "_pJsqzkIStFs",
        "outputId": "5fa2ed4d-98d9-43f8-8471-d583bfaeb353"
      },
      "execution_count": null,
      "outputs": [
        {
          "output_type": "error",
          "ename": "TypeError",
          "evalue": "'str' object does not support item assignment",
          "traceback": [
            "\u001b[0;31m---------------------------------------------------------------------------\u001b[0m",
            "\u001b[0;31mTypeError\u001b[0m                                 Traceback (most recent call last)",
            "\u001b[0;32m<ipython-input-5-24c097de0b0a>\u001b[0m in \u001b[0;36m<cell line: 0>\u001b[0;34m()\u001b[0m\n\u001b[1;32m      1\u001b[0m \u001b[0;31m#string is immutable\u001b[0m\u001b[0;34m\u001b[0m\u001b[0;34m\u001b[0m\u001b[0m\n\u001b[1;32m      2\u001b[0m \u001b[0ms\u001b[0m\u001b[0;34m=\u001b[0m\u001b[0;34m\"pwskills\"\u001b[0m\u001b[0;34m\u001b[0m\u001b[0;34m\u001b[0m\u001b[0m\n\u001b[0;32m----> 3\u001b[0;31m \u001b[0ms\u001b[0m\u001b[0;34m[\u001b[0m\u001b[0;36m0\u001b[0m\u001b[0;34m]\u001b[0m\u001b[0;34m=\u001b[0m\u001b[0;34m\"a\"\u001b[0m\u001b[0;34m\u001b[0m\u001b[0;34m\u001b[0m\u001b[0m\n\u001b[0m",
            "\u001b[0;31mTypeError\u001b[0m: 'str' object does not support item assignment"
          ]
        }
      ]
    },
    {
      "cell_type": "markdown",
      "source": [
        "### **11.What advantages do dictionaries offer over lists for certain tasks ?**\n",
        "\n",
        "Dictionaries offer several advantages over lists, primarily for tasks involving fast data retrieval and key-value association. Dictionaries use hash tables for quick access to values based on keys, while lists require sequential traversal, making dictionary lookups significantly faster. Dictionaries also allow for flexible and dynamic data organization and manipulation, making them suitable for various programming tasks like data processing and web developmen\n",
        "\n",
        "Dictionaries in Python are mutable, meaning you can add, update, or remove key value pairs as needed, providing flexibility in managing data and case sensitive.\n"
      ],
      "metadata": {
        "id": "xkjah_NwWQId"
      }
    },
    {
      "cell_type": "markdown",
      "source": [
        "### **12.Describe a scenario where using a tuple would be preferable over a list?**\n",
        "\n",
        "Tuples are immutable. Hence, they are primarily used to store data that doesn't change frequently. Any operation can store data in a tuple when you don't want it to change.\n",
        "\n",
        " Tuples are great to use if you want the data in your collection to be read-only, never to change, and always remain the same and constant.\n",
        "\n",
        " Tuples are faster than lists. Tuples make the code safe from any accidental modification. If a data is needed in a program which is not supposed to be changed, then it is better to put it in 'tuples' than in 'list'.\n",
        "\n",
        " EXAMPLE- Your aadhar number and pan number and your permanent house addresss. In these cases we use tuple instead of list.\n"
      ],
      "metadata": {
        "id": "7G6Bo1AzYgoN"
      }
    },
    {
      "cell_type": "markdown",
      "source": [
        "### **13.How do sets handle duplicate values in Python?**\n",
        "\n",
        "Sets are used to store multiple items in a single variable.Set items are unordered, unchangeable and do not allow duplicate values.\n",
        "We use {} brackets for set .\n"
      ],
      "metadata": {
        "id": "PnFlWTHuZ-61"
      }
    },
    {
      "cell_type": "code",
      "source": [
        "#example of set (how to handel duplicate values)\n",
        "s1={ 1,2,2,2,3,4,5,5}\n",
        "print(s1)"
      ],
      "metadata": {
        "colab": {
          "base_uri": "https://localhost:8080/"
        },
        "collapsed": true,
        "id": "2BTriQGQkVvR",
        "outputId": "7559051f-5a5f-4dcc-ce4a-490cc92953a5"
      },
      "execution_count": null,
      "outputs": [
        {
          "output_type": "stream",
          "name": "stdout",
          "text": [
            "{1, 2, 3, 4, 5}\n"
          ]
        }
      ]
    },
    {
      "cell_type": "markdown",
      "source": [
        "### **14.How does the “in” keyword work differently for lists and dictionaries ?**\n",
        "\n",
        "The 'in' operator is used to check if a value exists within a sequence like a list and  dictionary.\n",
        "\n",
        "It returns True if the value is found in the sequence, and False otherwise.\n"
      ],
      "metadata": {
        "id": "qJmDRbd_kr4Y"
      }
    },
    {
      "cell_type": "code",
      "source": [
        "#in keyword in list\n",
        "my_list = [1, 2, 3]\n",
        "\n",
        "if 3 in my_list:\n",
        "    print(\"3 is in the list\")\n",
        "else:\n",
        "    print(\"3 is not in the list\")"
      ],
      "metadata": {
        "colab": {
          "base_uri": "https://localhost:8080/"
        },
        "id": "L4ThmKWVlZ__",
        "outputId": "2a721204-7ed1-4087-ad87-e96a4c511082"
      },
      "execution_count": null,
      "outputs": [
        {
          "output_type": "stream",
          "name": "stdout",
          "text": [
            "3 is in the list\n"
          ]
        }
      ]
    },
    {
      "cell_type": "code",
      "source": [
        "#in keyword in dictionary\n",
        "my_dict = {\"a\": 1, \"b\": 2, \"c\": 3}\n",
        "\n",
        "if \"b\" in my_dict:\n",
        "    print(\"The key 'b' is in the dictionary\")"
      ],
      "metadata": {
        "id": "xosCZIOpS85A",
        "colab": {
          "base_uri": "https://localhost:8080/"
        },
        "outputId": "7d941fbd-ebdb-4f28-c0a6-2e3d242b282f"
      },
      "execution_count": null,
      "outputs": [
        {
          "output_type": "stream",
          "name": "stdout",
          "text": [
            "The key 'b' is in the dictionary\n"
          ]
        }
      ]
    },
    {
      "cell_type": "code",
      "source": [
        "#in keyword in list\n",
        "a={\"pwskills\"}\n",
        "\"z\" in a"
      ],
      "metadata": {
        "colab": {
          "base_uri": "https://localhost:8080/"
        },
        "id": "jkDlFUHlmV-_",
        "outputId": "d83c85f6-ff01-433d-967e-902e0d9b433d"
      },
      "execution_count": null,
      "outputs": [
        {
          "output_type": "execute_result",
          "data": {
            "text/plain": [
              "False"
            ]
          },
          "metadata": {},
          "execution_count": 10
        }
      ]
    },
    {
      "cell_type": "code",
      "source": [
        "#in keyword in dictionary\n",
        "a={\"pwskills\":1}\n",
        "\"pwskills\" in a"
      ],
      "metadata": {
        "colab": {
          "base_uri": "https://localhost:8080/"
        },
        "id": "dGpu9s2ym2gz",
        "outputId": "13e75317-6b99-434c-dff4-c2a6f8c1672e"
      },
      "execution_count": null,
      "outputs": [
        {
          "output_type": "execute_result",
          "data": {
            "text/plain": [
              "True"
            ]
          },
          "metadata": {},
          "execution_count": 11
        }
      ]
    },
    {
      "cell_type": "markdown",
      "source": [
        "### **15.Can you modify the elements of a tuple? Explain why or why not ?**\n",
        "\n",
        "No,we cannot directly modify the elements of a tuple once it has been created.\n",
        "\n",
        "Because tuples are immutable data structures, meaning their contents cannot be changed after they are defined.\n",
        "\n",
        "example - Aadhar card ,pan card, emp-id once defined should not be edited and can't change."
      ],
      "metadata": {
        "id": "quud6_A4m_59"
      }
    },
    {
      "cell_type": "code",
      "source": [
        "#tuples are immutable\n",
        "emp_name=(\"soumya\",\"rahul\")\n",
        "type(emp_name)\n",
        "emp_name[0]=\"ajay\"\n",
        "emp_name\n",
        "#so it throw an error"
      ],
      "metadata": {
        "colab": {
          "base_uri": "https://localhost:8080/",
          "height": 193
        },
        "collapsed": true,
        "id": "q-jFwvVIn3MM",
        "outputId": "10c69a18-6026-4357-eac4-252ae1cc1ee2"
      },
      "execution_count": null,
      "outputs": [
        {
          "output_type": "error",
          "ename": "TypeError",
          "evalue": "'tuple' object does not support item assignment",
          "traceback": [
            "\u001b[0;31m---------------------------------------------------------------------------\u001b[0m",
            "\u001b[0;31mTypeError\u001b[0m                                 Traceback (most recent call last)",
            "\u001b[0;32m<ipython-input-15-388c1bee276b>\u001b[0m in \u001b[0;36m<cell line: 0>\u001b[0;34m()\u001b[0m\n\u001b[1;32m      2\u001b[0m \u001b[0memp_name\u001b[0m\u001b[0;34m=\u001b[0m\u001b[0;34m(\u001b[0m\u001b[0;34m\"soumya\"\u001b[0m\u001b[0;34m,\u001b[0m\u001b[0;34m\"rahul\"\u001b[0m\u001b[0;34m)\u001b[0m\u001b[0;34m\u001b[0m\u001b[0;34m\u001b[0m\u001b[0m\n\u001b[1;32m      3\u001b[0m \u001b[0mtype\u001b[0m\u001b[0;34m(\u001b[0m\u001b[0memp_name\u001b[0m\u001b[0;34m)\u001b[0m\u001b[0;34m\u001b[0m\u001b[0;34m\u001b[0m\u001b[0m\n\u001b[0;32m----> 4\u001b[0;31m \u001b[0memp_name\u001b[0m\u001b[0;34m[\u001b[0m\u001b[0;36m0\u001b[0m\u001b[0;34m]\u001b[0m\u001b[0;34m=\u001b[0m\u001b[0;34m\"ajay\"\u001b[0m\u001b[0;34m\u001b[0m\u001b[0;34m\u001b[0m\u001b[0m\n\u001b[0m\u001b[1;32m      5\u001b[0m \u001b[0memp_name\u001b[0m\u001b[0;34m\u001b[0m\u001b[0;34m\u001b[0m\u001b[0m\n",
            "\u001b[0;31mTypeError\u001b[0m: 'tuple' object does not support item assignment"
          ]
        }
      ]
    },
    {
      "cell_type": "markdown",
      "source": [
        "### **16.What is a nested dictionary, and give an example of its use case?**\n",
        "\n",
        "A nested dictionary is a dictionary where one or more of its values are themselves dictionaries.SO ,it's a collection of dictionaries into one single dictionary.\n",
        "\n",
        "It's like having a dictionary inside another dictionary and allowing you to store hierarchical or multi-layered data.\n",
        "\n",
        " A use case is representing an employee directory where each employee has details stored as a nested dictionary, organized by department."
      ],
      "metadata": {
        "id": "zHTOCeiYpLo_"
      }
    },
    {
      "cell_type": "code",
      "source": [
        "#nested dictionary\n",
        "pwskill_dict = {\n",
        "    \"employee1\": {\n",
        "        \"name\": \"soumya\",\n",
        "        \"age\": 28,\n",
        "        \"department\": \"operation\"\n",
        "    },\n",
        "    \"employee2\": {\n",
        "        \"name\": \"ajay\",\n",
        "        \"age\": 30,\n",
        "        \"department\": \"sales\"\n",
        "    }\n",
        "}\n",
        "print(pwskill_dict)\n",
        "\n",
        "# here name = key word and soumya = key value and\n",
        " # employee 1 and 2 both are dictionary\n",
        " # pwskill_dist is nested dictionary\n",
        "\n"
      ],
      "metadata": {
        "colab": {
          "base_uri": "https://localhost:8080/"
        },
        "collapsed": true,
        "id": "CBjnY-beqFnB",
        "outputId": "ee2c44fd-3003-434c-b796-4f82d944c4d9"
      },
      "execution_count": null,
      "outputs": [
        {
          "output_type": "stream",
          "name": "stdout",
          "text": [
            "{'employee1': {'name': 'soumya', 'age': 28, 'department': 'operation'}, 'employee2': {'name': 'ajay', 'age': 30, 'department': 'sales'}}\n"
          ]
        }
      ]
    },
    {
      "cell_type": "markdown",
      "source": [
        "### **17.Describe the time complexity of accessing elements in a dictionary .**\n",
        "\n",
        "Dictionaries, often implemented as hash tables, use a hash function to map keys to their corresponding values' storage locations. This allows for direct access to elements without needing to search through the entire dictionary.\n",
        "\n",
        "Accessing an element in a dictionary typically has a time complexity of O(1) (constant time) on average."
      ],
      "metadata": {
        "id": "ZVyEoJ6XtYHD"
      }
    },
    {
      "cell_type": "code",
      "source": [
        "my_dict = {\"soumya\": 1, \"hari\": 2, \"rout\": 3}\n",
        "value = my_dict[\"hari\"] # Accessing the value associated with the key \"hari\"\n",
        "print(value) # Output: 2\n",
        "#In this example, regardless of how many key-value pairs are in my_dict,\n",
        "#accessing the value for \"hari\" takes roughly the same amount of time."
      ],
      "metadata": {
        "colab": {
          "base_uri": "https://localhost:8080/"
        },
        "id": "hsFIgN39vL4O",
        "outputId": "3d4cba4f-63b5-4267-f0cc-153ee3d4157d"
      },
      "execution_count": null,
      "outputs": [
        {
          "output_type": "stream",
          "name": "stdout",
          "text": [
            "2\n"
          ]
        }
      ]
    },
    {
      "cell_type": "markdown",
      "source": [
        "### **18.In what situations are lists preferred over dictionaries ?**\n",
        "\n",
        " For ordered collections and sequence operations, such as maintaining a stack or queue, lists are more suitable.\n",
        "\n",
        " Lists are preferred when -\n",
        "\n",
        "Order matters,\n",
        "Sequential access,\n",
        "Append/extend operations,\n",
        "Simple data storage ."
      ],
      "metadata": {
        "id": "kThI-zbMv9k9"
      }
    },
    {
      "cell_type": "markdown",
      "source": [
        "### **19.Why are dictionaries considered unordered, and how does that affect data retrieval?**\n",
        "\n",
        "Dictionaries are considered unordered because they store data as key-value pairs without maintaining any inherent order of insertion.\n",
        "\n",
        "This means that when you retrieve data from a dictionary, the order of the elements returned will not necessarily match the order in which they were added.\n",
        "\n",
        "That affect data retrieval --  relying on key-based access rather than indexing, making it impossible to access elements by their position."
      ],
      "metadata": {
        "id": "UXhjjBF9xSfT"
      }
    },
    {
      "cell_type": "markdown",
      "source": [
        "### **20.Explain the difference between a list and a dictionary in terms of data retrieval.**\n",
        "\n",
        "Data retrieval means obtaining data from a database .\n",
        "\n",
        "In data storage and retrieval, a dictionary differs from a list by using key-value pairs for storage and retrieval, while a list uses sequential indexing.\n",
        "\n",
        "Dictionaries offer faster lookup times for retrieving data by key, whereas lists are better for ordered data and sequential access.\n",
        "\n",
        "Data Retrieval:\n",
        "\n",
        "Lists: Access elements by their index (position) in the list.\n",
        "\n",
        "Dictionaries: Access values by their corresponding keys."
      ],
      "metadata": {
        "id": "lUnJFY75yPwO"
      }
    },
    {
      "cell_type": "markdown",
      "source": [
        "# #**PRATICAL QUESTIONS**"
      ],
      "metadata": {
        "id": "GWc8rbWbzXXy"
      }
    },
    {
      "cell_type": "code",
      "source": [
        "#1.Write a code to create a string with your name and print it?\n",
        "\n",
        "my_name = \"Soumyaray\"\n",
        "print(my_name)"
      ],
      "metadata": {
        "colab": {
          "base_uri": "https://localhost:8080/"
        },
        "collapsed": true,
        "id": "oFRctsLkzK1k",
        "outputId": "612ba7f4-55bf-47c4-d24a-4b14df9282dd"
      },
      "execution_count": null,
      "outputs": [
        {
          "output_type": "stream",
          "name": "stdout",
          "text": [
            "Soumyaray\n"
          ]
        }
      ]
    },
    {
      "cell_type": "code",
      "source": [
        "#2.Write a code to find the length of the string \"Hello World\".\n",
        "\n",
        "my_string = \"Hello World\"\n",
        "len(my_string) #or we can write print(len(my_string))"
      ],
      "metadata": {
        "colab": {
          "base_uri": "https://localhost:8080/"
        },
        "collapsed": true,
        "id": "XpYaLywG0Sxc",
        "outputId": "800e13d9-f234-4335-be05-4f30751e08cb"
      },
      "execution_count": null,
      "outputs": [
        {
          "output_type": "execute_result",
          "data": {
            "text/plain": [
              "11"
            ]
          },
          "metadata": {},
          "execution_count": 10
        }
      ]
    },
    {
      "cell_type": "code",
      "source": [
        "#3.Write a code to slice the first 3 characters from the string \"Python Programming\"?\n",
        "\n",
        "my_string = \"Python Programming\"\n",
        "my_string[0:3] # here 0 = include and 3 = exclude and it's print to the postion place 2"
      ],
      "metadata": {
        "colab": {
          "base_uri": "https://localhost:8080/",
          "height": 35
        },
        "collapsed": true,
        "id": "8h6wiKee0ss8",
        "outputId": "20e9597a-fb56-4e4b-a9a0-a7046223ea55"
      },
      "execution_count": null,
      "outputs": [
        {
          "output_type": "execute_result",
          "data": {
            "text/plain": [
              "'Pyt'"
            ],
            "application/vnd.google.colaboratory.intrinsic+json": {
              "type": "string"
            }
          },
          "metadata": {},
          "execution_count": 11
        }
      ]
    },
    {
      "cell_type": "code",
      "source": [
        "#4.Write a code to convert the string \"hello\" to uppercase ?\n",
        "\n",
        "my_string = \"hello\"\n",
        "my_string.upper() # here .upper funtion is used"
      ],
      "metadata": {
        "colab": {
          "base_uri": "https://localhost:8080/",
          "height": 35
        },
        "collapsed": true,
        "id": "qfCHurmS1Ip2",
        "outputId": "abe60a8a-5a31-430c-99a3-edf4c37bb168"
      },
      "execution_count": null,
      "outputs": [
        {
          "output_type": "execute_result",
          "data": {
            "text/plain": [
              "'HELLO'"
            ],
            "application/vnd.google.colaboratory.intrinsic+json": {
              "type": "string"
            }
          },
          "metadata": {},
          "execution_count": 12
        }
      ]
    },
    {
      "cell_type": "code",
      "source": [
        "#5.Write a code to replace the word \"apple\" with \"orange\" in the string \"I like apple\"?\n",
        "\n",
        "my_string = \"I like apple\"\n",
        "my_string.replace(\"apple\",\"orange\") # here .replace funtion is used to replace a old data to new data"
      ],
      "metadata": {
        "colab": {
          "base_uri": "https://localhost:8080/",
          "height": 35
        },
        "id": "g0vbuxSs2kFC",
        "outputId": "29f77bea-b384-4403-b42c-425aefabf830"
      },
      "execution_count": null,
      "outputs": [
        {
          "output_type": "execute_result",
          "data": {
            "text/plain": [
              "'I like orange'"
            ],
            "application/vnd.google.colaboratory.intrinsic+json": {
              "type": "string"
            }
          },
          "metadata": {},
          "execution_count": 13
        }
      ]
    },
    {
      "cell_type": "code",
      "source": [
        "#6.Write a code to create a list with numbers 1 to 5 and print it.\n",
        "\n",
        "my_list = [1,2,3,4,5]\n",
        "print(my_list) # In list we always use [] bracket"
      ],
      "metadata": {
        "colab": {
          "base_uri": "https://localhost:8080/"
        },
        "id": "ogreOuQJ3aXH",
        "outputId": "27ec45b5-d354-458b-9406-aeda80c033bf"
      },
      "execution_count": null,
      "outputs": [
        {
          "output_type": "stream",
          "name": "stdout",
          "text": [
            "[1, 2, 3, 4, 5]\n"
          ]
        }
      ]
    },
    {
      "cell_type": "code",
      "source": [
        "#7.Write a code to append the number 10 to the list [1, 2, 3, 4].\n",
        "\n",
        "my_list = [1,2,3,4]\n",
        "my_list.append(10)\n",
        "print(my_list) # here .append is used for add a new nub in list"
      ],
      "metadata": {
        "colab": {
          "base_uri": "https://localhost:8080/"
        },
        "id": "L3nfjzFv3k_z",
        "outputId": "bb33d60c-0d2e-4ba1-f92a-5a60091d72e7"
      },
      "execution_count": null,
      "outputs": [
        {
          "output_type": "stream",
          "name": "stdout",
          "text": [
            "[1, 2, 3, 4, 10]\n"
          ]
        }
      ]
    },
    {
      "cell_type": "code",
      "source": [
        "#8.Write a code to remove the number 3 from the list [1, 2, 3, 4, 5] .\n",
        "\n",
        "my_list = [1,2,3,4,5]\n",
        "my_list.remove(3)\n",
        "print(my_list) # here .remove is used for remove a new nub in list\n",
        "               # .pop(2) function also used for remove the number 3"
      ],
      "metadata": {
        "colab": {
          "base_uri": "https://localhost:8080/"
        },
        "id": "EUkqRT8j3wu9",
        "outputId": "2eb8be97-dd7f-458f-ae19-e24fd8dab283"
      },
      "execution_count": null,
      "outputs": [
        {
          "output_type": "stream",
          "name": "stdout",
          "text": [
            "[1, 2, 4, 5]\n"
          ]
        }
      ]
    },
    {
      "cell_type": "code",
      "source": [
        "#9.Write a code to access the second element in the list ['a', 'b', 'c', 'd'].\n",
        "\n",
        "my_list = [\"a\",\"b\",\"c\",\"d\"]\n",
        "my_list[1] # here second element in the placed in the 1st memory block"
      ],
      "metadata": {
        "colab": {
          "base_uri": "https://localhost:8080/",
          "height": 35
        },
        "id": "5ecE9lPZ4rc0",
        "outputId": "1a684172-8198-43e2-a8b5-3335f1060e90"
      },
      "execution_count": null,
      "outputs": [
        {
          "output_type": "execute_result",
          "data": {
            "text/plain": [
              "'b'"
            ],
            "application/vnd.google.colaboratory.intrinsic+json": {
              "type": "string"
            }
          },
          "metadata": {},
          "execution_count": 17
        }
      ]
    },
    {
      "cell_type": "code",
      "source": [
        "#10.Write a code to reverse the list [10, 20, 30, 40, 50]?\n",
        "\n",
        "my_list = [10,20,30,40,50]\n",
        "my_list.reverse()\n",
        "print(my_list) # here .reverse is used for reverse a list"
      ],
      "metadata": {
        "colab": {
          "base_uri": "https://localhost:8080/"
        },
        "id": "IocWgb-v5X4l",
        "outputId": "79bb71f9-5faf-4e80-cc08-d05ec5902ce4"
      },
      "execution_count": null,
      "outputs": [
        {
          "output_type": "stream",
          "name": "stdout",
          "text": [
            "[50, 40, 30, 20, 10]\n"
          ]
        }
      ]
    },
    {
      "cell_type": "code",
      "source": [
        "#11.Write a code to create a tuple with the elements 100, 200, 300 and print it.\n",
        "\n",
        "my_tuple = (100,200,300)\n",
        "print(my_tuple) # In tuple we always use () bracket"
      ],
      "metadata": {
        "colab": {
          "base_uri": "https://localhost:8080/"
        },
        "id": "MVdluKmc6U_Y",
        "outputId": "6203cece-a151-4abf-9176-ba1d326f8ce2"
      },
      "execution_count": null,
      "outputs": [
        {
          "output_type": "stream",
          "name": "stdout",
          "text": [
            "(100, 200, 300)\n"
          ]
        }
      ]
    },
    {
      "cell_type": "code",
      "source": [
        "#12.Write a code to access the second-to-last element of the tuple ('red', 'green', 'blue', 'yellow')?\n",
        "\n",
        "my_tuple = (\"red\",\"green\",\"blue\",\"yellow\")\n",
        "my_tuple[1:] # here second-to-last element of the tuple\n",
        "             # 1 =access the 2nd elemnt and blank = to last element"
      ],
      "metadata": {
        "colab": {
          "base_uri": "https://localhost:8080/"
        },
        "id": "se62Kh0n6gBa",
        "outputId": "dd01257e-dfc5-45fd-ff89-275a2ccc638f"
      },
      "execution_count": null,
      "outputs": [
        {
          "output_type": "execute_result",
          "data": {
            "text/plain": [
              "('green', 'blue', 'yellow')"
            ]
          },
          "metadata": {},
          "execution_count": 22
        }
      ]
    },
    {
      "cell_type": "code",
      "source": [
        "#13.Write a code to find the minimum number in the tuple (10, 20, 5, 15)?\n",
        "\n",
        "my_tuple = (10,20,5,15)\n",
        "min(my_tuple)# here .min is used for find the minimum number in the tuple\n",
        "              # To find the maximum number .max is used in the tuple"
      ],
      "metadata": {
        "colab": {
          "base_uri": "https://localhost:8080/"
        },
        "id": "E4XQ6sWt7Az5",
        "outputId": "4a12c1b1-6af0-4f2c-f460-6ed30a0ed018"
      },
      "execution_count": null,
      "outputs": [
        {
          "output_type": "execute_result",
          "data": {
            "text/plain": [
              "5"
            ]
          },
          "metadata": {},
          "execution_count": 25
        }
      ]
    },
    {
      "cell_type": "code",
      "source": [
        "#14.Write a code to find the index of the element \"cat\" in the tuple ('dog', 'cat', 'rabbit').\n",
        "\n",
        "my_tuple = (\"dog\",\"cat\",\"rabbit\")\n",
        "my_tuple.index(\"cat\") # here .index is used for find the index of the element in the tuple"
      ],
      "metadata": {
        "colab": {
          "base_uri": "https://localhost:8080/"
        },
        "id": "h9-41TAJ76wS",
        "outputId": "97cdd75b-df16-4df0-ca9a-0d91b7002288"
      },
      "execution_count": null,
      "outputs": [
        {
          "output_type": "execute_result",
          "data": {
            "text/plain": [
              "1"
            ]
          },
          "metadata": {},
          "execution_count": 28
        }
      ]
    },
    {
      "cell_type": "code",
      "source": [
        "#15.Write a code to create a tuple containing three different fruits and check if \"kiwi\" is in it.\n",
        "\n",
        "my_tuple = (\"apple\",\"watermelon\",\"kiwi\")\n",
        "\"kiwi\" in my_tuple # here in (membership) operator is used\n",
        "#if output is true = kiwi is present in tuple\n",
        "#if output is flase = kiwi is not present in the tuple"
      ],
      "metadata": {
        "id": "YTIaOGSl802I",
        "colab": {
          "base_uri": "https://localhost:8080/"
        },
        "outputId": "ef95ed42-abda-4a06-94ba-81adc58132de"
      },
      "execution_count": null,
      "outputs": [
        {
          "output_type": "execute_result",
          "data": {
            "text/plain": [
              "True"
            ]
          },
          "metadata": {},
          "execution_count": 34
        }
      ]
    },
    {
      "cell_type": "code",
      "source": [
        "#16.Write a code to create a set with the elements 'a', 'b', 'c' and print it ?\n",
        "\n",
        "my_set = {\"a\",\"b\",\"c\"}\n",
        "print(my_set) # In set we always use {} bracket"
      ],
      "metadata": {
        "colab": {
          "base_uri": "https://localhost:8080/"
        },
        "id": "jci10GSC__BW",
        "outputId": "e2add483-6d23-4404-c649-bf54605b85ce"
      },
      "execution_count": null,
      "outputs": [
        {
          "output_type": "stream",
          "name": "stdout",
          "text": [
            "{'a', 'b', 'c'}\n"
          ]
        }
      ]
    },
    {
      "cell_type": "code",
      "source": [
        "#17.Write a code to clear all elements from the set {1, 2, 3, 4, 5} .\n",
        "\n",
        "my_set = {1,2,3,4,5}\n",
        "my_set.clear()\n",
        "print(my_set) # here .clear is used for clear all elements from the set"
      ],
      "metadata": {
        "colab": {
          "base_uri": "https://localhost:8080/"
        },
        "id": "4ApGkJ31BrPi",
        "outputId": "7812b142-c748-4a17-eee2-12a4575fa368"
      },
      "execution_count": null,
      "outputs": [
        {
          "output_type": "stream",
          "name": "stdout",
          "text": [
            "set()\n"
          ]
        }
      ]
    },
    {
      "cell_type": "code",
      "source": [
        "#18.Write a code to remove the element 4 from the set {1, 2, 3, 4}.\n",
        "\n",
        "my_set = {1,2,3,4}\n",
        "my_set.discard(4)\n",
        "print(my_set) # here .discard is used for remove the element from the set\n",
        "              # we can also use .remove function but .pop is not working in the set"
      ],
      "metadata": {
        "colab": {
          "base_uri": "https://localhost:8080/"
        },
        "id": "kxNWVnPBB6BP",
        "outputId": "fd025cdb-ff99-4f88-e8b2-cd6a12137755"
      },
      "execution_count": null,
      "outputs": [
        {
          "output_type": "stream",
          "name": "stdout",
          "text": [
            "{1, 2, 3}\n"
          ]
        }
      ]
    },
    {
      "cell_type": "code",
      "source": [
        "#19.Write a code to find the union of two sets {1, 2, 3} and {3, 4, 5}.\n",
        "\n",
        "set1 = {1,2,3}\n",
        "set2 = {3,4,5}\n",
        "set1|set2 # here we can use | = pipe function for union of two sets\n",
        "# we can also use  .union  for the union of two sets\n",
        "# and set don't contain duplicate elements here 3 is only one time"
      ],
      "metadata": {
        "colab": {
          "base_uri": "https://localhost:8080/"
        },
        "id": "Tlp4O1IiCKIo",
        "outputId": "a4fb21eb-6b37-412b-9e95-f6f5d6e7de3c"
      },
      "execution_count": null,
      "outputs": [
        {
          "output_type": "execute_result",
          "data": {
            "text/plain": [
              "{1, 2, 3, 4, 5}"
            ]
          },
          "metadata": {},
          "execution_count": 44
        }
      ]
    },
    {
      "cell_type": "code",
      "source": [
        "#20.Write a code to find the intersection of two sets {1, 2, 3} and {2, 3, 4}.\n",
        "\n",
        "set1 = {1,2,3}\n",
        "set2 = {2,3,4}\n",
        "set1&set2 # here we can use & = ampersand function for intersection of two sets\n",
        "# we can also use  .intersection  for the intersection of two sets\n",
        "# intersection means only common elements from two sets"
      ],
      "metadata": {
        "colab": {
          "base_uri": "https://localhost:8080/"
        },
        "id": "wuh2yfDsDlDn",
        "outputId": "18a743b3-4fb5-411a-b5f7-eab00ca4f6f2"
      },
      "execution_count": null,
      "outputs": [
        {
          "output_type": "execute_result",
          "data": {
            "text/plain": [
              "{2, 3}"
            ]
          },
          "metadata": {},
          "execution_count": 45
        }
      ]
    },
    {
      "cell_type": "code",
      "source": [
        "#21.Write a code to create a dictionary with the keys \"name\", \"age\", and \"city\", and print it.\n",
        "\n",
        "my_dict = {\"name\":\"soumya\",\"age\":28,\"city\":\"bhubaneswar\"}\n",
        "print(my_dict) # In dictionary we always use {} bracket\n",
        "# and both  key : value pair are there in dictionary\n",
        "#key = name  #value = soumya"
      ],
      "metadata": {
        "colab": {
          "base_uri": "https://localhost:8080/"
        },
        "id": "Nps5_PFgE3cw",
        "outputId": "c3a39091-31b5-4242-e14f-683605822f25"
      },
      "execution_count": null,
      "outputs": [
        {
          "output_type": "stream",
          "name": "stdout",
          "text": [
            "{'name': 'soumya', 'age': 28, 'city': 'bhubaneswar'}\n"
          ]
        }
      ]
    },
    {
      "cell_type": "code",
      "source": [
        "#22.Write a code to add a new key-value pair \"country\": \"USA\" to the dictionary {'name': 'John', 'age': 25}?\n",
        "\n",
        "my_dict = {'name':'John','age':'25'}\n",
        "my_dict[\"country\"] = \"USA\"\n",
        "print(my_dict) # here we can add a new key-value pair \"country\": \"USA\"\n",
        "               #now  it contain new key-value pair"
      ],
      "metadata": {
        "colab": {
          "base_uri": "https://localhost:8080/"
        },
        "id": "GT1nqjukFf2t",
        "outputId": "2edf59a9-12d1-47e1-bc53-1f212407b935"
      },
      "execution_count": null,
      "outputs": [
        {
          "output_type": "stream",
          "name": "stdout",
          "text": [
            "{'name': 'John', 'age': '25', 'country': 'USA'}\n"
          ]
        }
      ]
    },
    {
      "cell_type": "code",
      "source": [
        "#23.Write a code to access the value associated with the key \"name\" in the dictionary {'name': 'Alice', 'age': 30}.\n",
        "\n",
        "my_dict = {'name': 'Alice', 'age': 30}\n",
        "my_dict[\"name\"] # here we can access the value associated with the key \"name\"\n",
        "                #In dictionary both key and value are associated"
      ],
      "metadata": {
        "colab": {
          "base_uri": "https://localhost:8080/",
          "height": 36
        },
        "id": "zNXRr3xZH0pN",
        "outputId": "bd2ffe5a-6141-4c04-b0d1-26b8b3503e27"
      },
      "execution_count": null,
      "outputs": [
        {
          "output_type": "execute_result",
          "data": {
            "text/plain": [
              "'Alice'"
            ],
            "application/vnd.google.colaboratory.intrinsic+json": {
              "type": "string"
            }
          },
          "metadata": {},
          "execution_count": 48
        }
      ]
    },
    {
      "cell_type": "code",
      "source": [
        "#24.Write a code to remove the key \"age\" from the dictionary {'name': 'Bob', 'age': 22, 'city': 'New York'}.\n",
        "\n",
        "my_dict = {'name': 'Bob', 'age': 22, 'city': 'New York'}\n",
        "del my_dict[\"age\"]\n",
        "print(my_dict) # here we use delete funtion (del)to remove the key \"age\" from the dictionary\n",
        "#only age not remove both age and 22 are removed because age:22 key-value pair"
      ],
      "metadata": {
        "colab": {
          "base_uri": "https://localhost:8080/"
        },
        "id": "Oeuj9KV2IZNk",
        "outputId": "cb4f1915-adbf-4779-e994-b23f7cd9a5da"
      },
      "execution_count": null,
      "outputs": [
        {
          "output_type": "stream",
          "name": "stdout",
          "text": [
            "{'name': 'Bob', 'city': 'New York'}\n"
          ]
        }
      ]
    },
    {
      "cell_type": "code",
      "source": [
        "#25.Write a code to check if the key \"city\" exists in the dictionary {'name': 'Alice', 'city': 'Paris'}.\n",
        "\n",
        "my_dict = {'name': 'Alice', 'city': 'Paris'}\n",
        "\"city\" in my_dict # here in (membership) operator is used\n",
        "#if output is true = city is present in dictionary\n",
        "#if output is flase = city is not present in the dictionary"
      ],
      "metadata": {
        "colab": {
          "base_uri": "https://localhost:8080/"
        },
        "id": "9ndjsjl4Iloz",
        "outputId": "267090e6-7b0a-462f-fb35-058ab65ed3f7"
      },
      "execution_count": null,
      "outputs": [
        {
          "output_type": "execute_result",
          "data": {
            "text/plain": [
              "True"
            ]
          },
          "metadata": {},
          "execution_count": 50
        }
      ]
    },
    {
      "cell_type": "code",
      "source": [
        "#26.Write a code to create a list, a tuple, and a dictionary, and print them all.\n",
        "\n",
        "my_list = [('a',1),('b',2),('c',3)]\n",
        "my_tuple = (1,2,3)\n",
        "my_dict = {'a':1,'b':2,'c':3}\n",
        "print(my_list)\n",
        "print(my_tuple)\n",
        "print(my_dict)\n",
        "\n"
      ],
      "metadata": {
        "colab": {
          "base_uri": "https://localhost:8080/"
        },
        "id": "o4ZqaC6mJP-M",
        "outputId": "47d690fd-870b-4a0a-80b9-b8bec8a4e093"
      },
      "execution_count": null,
      "outputs": [
        {
          "output_type": "stream",
          "name": "stdout",
          "text": [
            "[('a', 1), ('b', 2), ('c', 3)]\n",
            "(1, 2, 3)\n",
            "{'a': 1, 'b': 2, 'c': 3}\n"
          ]
        }
      ]
    },
    {
      "cell_type": "code",
      "source": [
        "#27.Write a code to create a list of 5 random numbers between 1 and 100, sort it in ascending order, and print the result.\n",
        "\n",
        "a = [12,4,18,33,45]\n",
        "a.sort()\n",
        "print(a) # here .sort is used for ascending order in the list"
      ],
      "metadata": {
        "colab": {
          "base_uri": "https://localhost:8080/"
        },
        "id": "occjLsiKLIYF",
        "outputId": "9781631c-faa3-4f60-c407-a8e1a02fd8ef"
      },
      "execution_count": null,
      "outputs": [
        {
          "output_type": "stream",
          "name": "stdout",
          "text": [
            "[4, 12, 18, 33, 45]\n"
          ]
        }
      ]
    },
    {
      "cell_type": "code",
      "source": [
        "#28.Write a code to create a list with strings and print the element at the third index .\n",
        "\n",
        "my_list = [\"ram\",\"hari\",\"krishna\",\"basudev\"]\n",
        "print(my_list[2]) # here we can print the element at the third index\n",
        "                  #[2]=index position of the list"
      ],
      "metadata": {
        "id": "3yKEByYBMFUX",
        "colab": {
          "base_uri": "https://localhost:8080/"
        },
        "outputId": "82996c9e-c056-4482-ddac-698d29b06b95"
      },
      "execution_count": 2,
      "outputs": [
        {
          "output_type": "stream",
          "name": "stdout",
          "text": [
            "krishna\n"
          ]
        }
      ]
    },
    {
      "cell_type": "code",
      "source": [
        "#29.Write a code to combine two dictionaries into one and print the result .\n",
        "\n",
        "dict1 = {'a':1,'b':2}\n",
        "dict2 = {'c':3,'d':4}\n",
        "dict1.update(dict2)\n",
        "print(dict1) # here .update is used for combine two dictionaries into one"
      ],
      "metadata": {
        "colab": {
          "base_uri": "https://localhost:8080/"
        },
        "id": "-3PrAdlMMlNy",
        "outputId": "8934aee3-24db-44b7-8821-e1386e53d6ad"
      },
      "execution_count": null,
      "outputs": [
        {
          "output_type": "stream",
          "name": "stdout",
          "text": [
            "{'a': 1, 'b': 2, 'c': 3, 'd': 4}\n"
          ]
        }
      ]
    },
    {
      "cell_type": "code",
      "source": [
        "#30.Write a code to convert a list of strings into a set.\n",
        "\n",
        "my_list = [\"soumya\",\"ray\"]\n",
        "my_set = set(my_list)\n",
        "print(my_set) # here set() is used for convert a list of strings into a set"
      ],
      "metadata": {
        "id": "toM5Ss3HMwNx",
        "colab": {
          "base_uri": "https://localhost:8080/"
        },
        "outputId": "c8584c9e-8c77-4a11-ec90-20b86197424d"
      },
      "execution_count": 1,
      "outputs": [
        {
          "output_type": "stream",
          "name": "stdout",
          "text": [
            "{'ray', 'soumya'}\n"
          ]
        }
      ]
    }
  ]
}